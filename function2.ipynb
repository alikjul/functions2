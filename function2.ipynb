{
 "cells": [
  {
   "cell_type": "code",
   "execution_count": 40,
   "metadata": {},
   "outputs": [],
   "source": [
    "import sympy as sy\n",
    "import numpy as np\n",
    "import numdifftools as nd\n",
    "from scipy.optimize import approx_fprime\n",
    "sy.init_printing()"
   ]
  },
  {
   "cell_type": "markdown",
   "metadata": {},
   "source": [
    "### Задание 1: \n",
    "Посчитайте частные производные функций\n",
    "(как обычно, необходимо решение на бумажке или в LaTeX и на scipy):"
   ]
  },
  {
   "cell_type": "markdown",
   "metadata": {},
   "source": [
    "1) $f(x,y)=2x^2y^3 + 1/x + y^2x + 7$, а для этой функции также градиент в точке $(1,2)$\n",
    "\n",
    "2) $f(x,y)=x^2y - sin(xy) + cos(x^2) + 6y$"
   ]
  },
  {
   "cell_type": "markdown",
   "metadata": {},
   "source": [
    "$\\frac{\\partial f}{\\partial x} = 4 x y^{3} + y^{2} - \\frac{1}{x^{2}}\\\\\n",
    "\\frac{\\partial f}{\\partial y} = 2 x y \\left(3 x y + 1\\right)$"
   ]
  },
  {
   "cell_type": "markdown",
   "metadata": {},
   "source": [
    "$f'(x) = 4 x y^{3} + y^{2} - \\frac{1}{x^{2}}\\\\\n",
    "f'(y) = 6 x^{2} y^{2} + 2 x y, y\\\\\n",
    "f'(x)(1,2) = 4 \\cdot 1 \\cdot 2^{3} + 2^{2} - 1 \\cdot 1^{2} = 35\\\\\n",
    "f'(y)(1,2) = 6 \\cdot 1^{2} \\cdot 2^{2} + 2 \\cdot 1 \\cdot 2 = 28\\\\\n",
    "\\operatorname{grad}f = \\frac{\\partial f}{\\partial x} \\overrightarrow i + \\frac{\\partial f}{\\partial y} \\overrightarrow j = 35 \\overrightarrow i + 28 \\overrightarrow j\n",
    "$"
   ]
  },
  {
   "cell_type": "code",
   "execution_count": 95,
   "metadata": {},
   "outputs": [],
   "source": [
    "# Честно говоря, я так и не разобрался, как пользоваться optimize.approx_fprime\n",
    "# Порывшись, я нашёл библиотеку numdifftools, которая вроде бы делает то, что здесь необходимо"
   ]
  },
  {
   "cell_type": "code",
   "execution_count": 91,
   "metadata": {},
   "outputs": [
    {
     "name": "stdout",
     "output_type": "stream",
     "text": [
      "3.7182818284590677 1.718281828459016\n"
     ]
    }
   ],
   "source": [
    "# Пример из официальной документации\n",
    "sin = np.sin; exp = np.exp\n",
    "x, y = 1, 1\n",
    "z = lambda xy: sin(xy[0]-xy[1]) + xy[1]*exp(xy[0])\n",
    "dz = nd.Gradient(z)\n",
    "dz_dx, dz_dy = dz([x, y])\n",
    "print(dz_dx, dz_dy)"
   ]
  },
  {
   "cell_type": "code",
   "execution_count": 94,
   "metadata": {},
   "outputs": [
    {
     "name": "stdout",
     "output_type": "stream",
     "text": [
      "35.0 28.00000000000001\n"
     ]
    },
    {
     "name": "stderr",
     "output_type": "stream",
     "text": [
      "C:\\Users\\JR\\anaconda3\\lib\\site-packages\\ipykernel_launcher.py:2: RuntimeWarning: divide by zero encountered in double_scalars\n",
      "  \n"
     ]
    }
   ],
   "source": [
    "# То же самое с заданной функцией\n",
    "x, y = 1, 2\n",
    "z = lambda xy: 2*xy[0]**2*xy[1]**3 + 1/xy[0] + xy[1]**2*xy[0] + 7\n",
    "dz = nd.Gradient(z)\n",
    "dz_dx, dz_dy = dz([x, y])\n",
    "print(dz_dx, dz_dy)"
   ]
  },
  {
   "cell_type": "markdown",
   "metadata": {},
   "source": [
    "Вторая функция"
   ]
  },
  {
   "cell_type": "markdown",
   "metadata": {},
   "source": [
    "$\\frac{\\partial g}{\\partial a} = 2 a b - 2 a \\sin{\\left(a^{2} \\right)} + b \\cos{\\left(a b \\right)}\\\\\n",
    "\\frac{\\partial g}{\\partial b} = a^{2} + a \\cos{\\left(a b \\right)} + 6$"
   ]
  },
  {
   "cell_type": "code",
   "execution_count": null,
   "metadata": {},
   "outputs": [],
   "source": []
  }
 ],
 "metadata": {
  "kernelspec": {
   "display_name": "Python 3",
   "language": "python",
   "name": "python3"
  },
  "language_info": {
   "codemirror_mode": {
    "name": "ipython",
    "version": 3
   },
   "file_extension": ".py",
   "mimetype": "text/x-python",
   "name": "python",
   "nbconvert_exporter": "python",
   "pygments_lexer": "ipython3",
   "version": "3.7.6"
  }
 },
 "nbformat": 4,
 "nbformat_minor": 2
}
